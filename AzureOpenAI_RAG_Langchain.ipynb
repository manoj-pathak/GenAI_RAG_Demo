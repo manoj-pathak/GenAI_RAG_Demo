{
 "cells": [
  {
   "cell_type": "markdown",
   "id": "26980a5b-a900-47b1-8381-6853c2cc1a5e",
   "metadata": {},
   "source": [
    "# LangChain demo with Azure OpenAI using Vector Store with ChromaDB"
   ]
  },
  {
   "cell_type": "code",
   "execution_count": null,
   "id": "cbf1dfc0-eac0-4bbd-95bc-2287ffa277ef",
   "metadata": {},
   "outputs": [],
   "source": [
    "import os\n",
    "from openai import AzureOpenAI\n",
    "\n",
    "deployment_name = \"manoj-gpt35-turbo\"\n",
    "api_key=os.getenv('AZURE_OPEN_API_KEY')  \n",
    "azure_endpoint = os.getenv(\"AZURE_OPENAI_ENDPOINT\")\n",
    "api_version=\"2024-02-01\",\n",
    "\n",
    "client = AzureOpenAI(\n",
    "    api_key=api_key,  \n",
    "    api_version=api_version,\n",
    "    azure_endpoint = azure_endpoint\n",
    "    )"
   ]
  },
  {
   "cell_type": "code",
   "execution_count": null,
   "id": "f80f2a20-469b-478c-a1c0-9f801162f65c",
   "metadata": {},
   "outputs": [],
   "source": [
    "from langchain_community.document_loaders import PyPDFLoader\n",
    "loader = PyPDFLoader(\"MonitoringCenter.pdf\")\n",
    "documents = loader.load_and_split()\n",
    "# documents "
   ]
  },
  {
   "cell_type": "code",
   "execution_count": null,
   "id": "b8fd3e79-3bc8-4578-b6e2-052b32b32986",
   "metadata": {},
   "outputs": [],
   "source": [
    "from langchain.text_splitter import CharacterTextSplitter\n",
    "text_splitter =  CharacterTextSplitter(chunk_size = 800, chunk_overlap=0)\n",
    "texts= text_splitter.split_documents(documents)\n",
    "# texts"
   ]
  },
  {
   "cell_type": "code",
   "execution_count": null,
   "id": "3587177c-67ef-4989-a69c-eb55a982840e",
   "metadata": {},
   "outputs": [],
   "source": [
    "from langchain.embeddings import OpenAIEmbeddings\n",
    "from langchain_chroma import Chroma\n",
    "from langchain.chains import RetrievalQA\n",
    "from langchain.llms import AzureOpenAI\n",
    "\n",
    "os.environ[\"OPENAI_API_KEY\"] = api_key\n",
    "embeddings = OpenAIEmbeddings()\n",
    "\n",
    "doc_search = Chroma.from_documents(texts, embeddings)\n",
    "chain = RetrievalQA.from_chain_type(llm=Ollama(model=\"llama3\"), chain_type='stuff',retriever=doc_search.as_retriever())"
   ]
  },
  {
   "cell_type": "code",
   "execution_count": null,
   "id": "478b90ab-96c0-42db-ab51-33f58e21b23f",
   "metadata": {},
   "outputs": [],
   "source": [
    "query = 'what is netbackup?'\n",
    "chain.run(query)"
   ]
  },
  {
   "cell_type": "code",
   "execution_count": null,
   "id": "f7dac17b-84ac-46da-853e-81f00d06105d",
   "metadata": {},
   "outputs": [],
   "source": []
  }
 ],
 "metadata": {
  "kernelspec": {
   "display_name": "Python 3 (ipykernel)",
   "language": "python",
   "name": "python3"
  },
  "language_info": {
   "codemirror_mode": {
    "name": "ipython",
    "version": 3
   },
   "file_extension": ".py",
   "mimetype": "text/x-python",
   "name": "python",
   "nbconvert_exporter": "python",
   "pygments_lexer": "ipython3",
   "version": "3.12.3"
  }
 },
 "nbformat": 4,
 "nbformat_minor": 5
}
