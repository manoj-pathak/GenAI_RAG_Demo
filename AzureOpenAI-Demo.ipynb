{
 "cells": [
  {
   "cell_type": "markdown",
   "id": "b76205c8-097e-4629-8674-61b0576775eb",
   "metadata": {},
   "source": [
    "# Demo using Azure OpenAI"
   ]
  },
  {
   "cell_type": "code",
   "execution_count": null,
   "id": "90418728-7d1e-4207-9174-2d74e25b690c",
   "metadata": {},
   "outputs": [],
   "source": [
    "import os\n",
    "from openai import AzureOpenAI"
   ]
  },
  {
   "cell_type": "code",
   "execution_count": null,
   "id": "0389e93e-27a8-42b9-81e3-91667ae4ee3a",
   "metadata": {},
   "outputs": [],
   "source": [
    "deployment_name = \"manoj-gpt35-turbo\"\n",
    "api_key=os.getenv('AZURE_OPEN_API_KEY')  \n",
    "azure_endpoint = os.getenv(\"AZURE_OPENAI_ENDPOINT\")\n",
    "api_version=\"2024-02-01\",\n",
    "\n",
    "client = AzureOpenAI(\n",
    "    api_key=api_key,  \n",
    "    api_version=api_version,\n",
    "    azure_endpoint = azure_endpoint\n",
    "    )"
   ]
  },
  {
   "cell_type": "code",
   "execution_count": null,
   "id": "020a7a16-85a1-477f-825f-bd18f91a7dfc",
   "metadata": {},
   "outputs": [],
   "source": [
    "prompt = \"AI-driven anomaly detection\"\n",
    "\n",
    "response = client.completions.create(model=deployment_name, prompt=prompt, max_tokens=20)\n",
    "print(response.choices[0].text)\n",
    "\n",
    "# response = client.chat.completions.create(\n",
    "#     model=deployment_name,\n",
    "#     messages=[\n",
    "#         {\"role\": \"system\", \"content\": \"You are a helpful assistant.\"},\n",
    "#         {\"role\": \"user\", \"content\": \"Does Azure OpenAI support customer managed keys?\"},\n",
    "#         {\"role\": \"assistant\", \"content\": \"Yes, customer managed keys are supported by Azure OpenAI.\"}\n",
    "#     ]\n",
    "# )\n",
    "# print(response.choices[0].message.content)"
   ]
  },
  {
   "cell_type": "code",
   "execution_count": null,
   "id": "43d54c1e-72b6-49fc-a974-ba44b45c9567",
   "metadata": {},
   "outputs": [],
   "source": [
    "response = client.chat.completions.create(\n",
    "    model=deployment_name,\n",
    "    messages=[\n",
    "        {\"role\": \"system\", \"content\": \"You are a helpful assistant.\"},\n",
    "        {\"role\": \"user\", \"content\": \"what is Monitoring Center dashboard\"}\n",
    "    ]\n",
    ")\n",
    "\n",
    "print(response.choices[0].message.content)"
   ]
  },
  {
   "cell_type": "markdown",
   "id": "3bb5f1c1-373b-439a-a898-2079a6bfeaaf",
   "metadata": {},
   "source": [
    "# Using RAG to generate content from User provided documents "
   ]
  },
  {
   "cell_type": "code",
   "execution_count": null,
   "id": "029e612f-f60a-47fa-935a-69e616c1110b",
   "metadata": {},
   "outputs": [],
   "source": [
    "response = client.chat.completions.create(\n",
    "    model=deployment_name,\n",
    "    messages=[\n",
    "        # {\"role\": \"system\", \"content\": \"You are a helpful assistant and answer politely.\"},\n",
    "        {\"role\": \"system\", \"content\": \"Assistant is a large language model trained by OpenAI.\"},\n",
    "        {\"role\": \"user\", \"content\": \"Monitoring Center dashboard?\"}\n",
    "    ],\n",
    "    extra_body={\n",
    "        \"data_sources\":[\n",
    "            {\n",
    "                \"type\": \"azure_search\",\n",
    "                \"parameters\": {\n",
    "                    \"endpoint\": \"https://XXXX.search.windows.net\",\n",
    "                    \"index_name\": \"llmdemo\",\n",
    "                    \"authentication\": {\n",
    "                        \"type\": \"api_key\",\n",
    "                        \"key\": \"<API_KEY>\"\n",
    "                    }\n",
    "                }\n",
    "            }\n",
    "        ],\n",
    "    }\n",
    "    \n",
    ")\n",
    "print(response.choices[0].message.content)"
   ]
  },
  {
   "cell_type": "code",
   "execution_count": null,
   "id": "69c44e8c-b355-44d6-8733-4067ae9a1624",
   "metadata": {},
   "outputs": [],
   "source": []
  }
 ],
 "metadata": {
  "kernelspec": {
   "display_name": "Python 3 (ipykernel)",
   "language": "python",
   "name": "python3"
  },
  "language_info": {
   "codemirror_mode": {
    "name": "ipython",
    "version": 3
   },
   "file_extension": ".py",
   "mimetype": "text/x-python",
   "name": "python",
   "nbconvert_exporter": "python",
   "pygments_lexer": "ipython3",
   "version": "3.12.3"
  }
 },
 "nbformat": 4,
 "nbformat_minor": 5
}
