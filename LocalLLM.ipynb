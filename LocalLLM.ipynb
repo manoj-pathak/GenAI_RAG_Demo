{
 "cells": [
  {
   "cell_type": "markdown",
   "id": "648d1d83-c111-45ed-939a-a5b53fcd39d6",
   "metadata": {},
   "source": [
    "# Demo with Local LLAMA3 model"
   ]
  },
  {
   "cell_type": "code",
   "execution_count": null,
   "id": "b5112748-8c14-4ab4-b381-cea2c2918c00",
   "metadata": {},
   "outputs": [],
   "source": [
    "import ollama\n",
    "\n",
    "def getLLM_Response(prompt):\n",
    "    response = ollama.chat(\n",
    "        model='llama3', \n",
    "        messages=[{'role': 'user', 'content': prompt}]\n",
    "    )\n",
    "    return response['message']['content']"
   ]
  },
  {
   "cell_type": "code",
   "execution_count": null,
   "id": "a22eafbb-ad5e-4159-8ff8-40b2e9c305e6",
   "metadata": {},
   "outputs": [],
   "source": [
    "prompt = '''\n",
    "    classify into positive or negative reviews:\n",
    "    \"food is delicious\"\n",
    "'''\n",
    "\n",
    "# prompt = \"Why earth rotate?\"\n",
    "response = getLLM_Response(prompt)\n",
    "print(response)"
   ]
  },
  {
   "cell_type": "code",
   "execution_count": null,
   "id": "f04973cf-15e0-4f0c-9a6a-368d0e32132d",
   "metadata": {},
   "outputs": [],
   "source": [
    "response = getLLM_Response(\"who is MODI?\")\n",
    "print(response)"
   ]
  },
  {
   "cell_type": "code",
   "execution_count": null,
   "id": "02cf1eab-7425-487c-89e2-621cbb47bf84",
   "metadata": {},
   "outputs": [],
   "source": []
  }
 ],
 "metadata": {
  "kernelspec": {
   "display_name": "Python 3 (ipykernel)",
   "language": "python",
   "name": "python3"
  },
  "language_info": {
   "codemirror_mode": {
    "name": "ipython",
    "version": 3
   },
   "file_extension": ".py",
   "mimetype": "text/x-python",
   "name": "python",
   "nbconvert_exporter": "python",
   "pygments_lexer": "ipython3",
   "version": "3.12.3"
  }
 },
 "nbformat": 4,
 "nbformat_minor": 5
}
