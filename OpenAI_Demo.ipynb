{
 "cells": [
  {
   "cell_type": "markdown",
   "id": "21e19506-d159-4662-8bab-492bcd28755a",
   "metadata": {},
   "source": [
    "# Demo with OpenAI without using third party integration"
   ]
  },
  {
   "cell_type": "code",
   "execution_count": null,
   "id": "c5cb70a2-6656-4877-9dd5-fdaf33e9d8fe",
   "metadata": {},
   "outputs": [],
   "source": [
    "import pandas as pd\n",
    "from openai import OpenAI\n",
    "import os\n",
    "import ast\n",
    "import numpy as np\n",
    "import pdb\n",
    "\n",
    "client = OpenAI\n",
    "\n",
    "    api_key = \"<API_KEY>\",\n",
    ")"
   ]
  },
  {
   "cell_type": "code",
   "execution_count": null,
   "id": "d3e02d04-ef5d-4573-83ae-048e9515d820",
   "metadata": {},
   "outputs": [],
   "source": [
    "question = \"What temperatus should I set my house on vacation?\""
   ]
  },
  {
   "cell_type": "code",
   "execution_count": null,
   "id": "48df2665-0027-4eac-9855-92b04348a63a",
   "metadata": {},
   "outputs": [],
   "source": [
    "response = client.chat.completions.create(\n",
    "    model=\"gpy-3.5-turbo\",messages=[{\"role\":\"user\",\"content\":question}])\n",
    "\n",
    "response.choices[0].message.content"
   ]
  },
  {
   "cell_type": "markdown",
   "id": "f4a6357d-3faa-4d1b-93ae-31fbbae8a686",
   "metadata": {},
   "source": [
    "# RAG implementaion with custom code to load, index, vectorize the document"
   ]
  },
  {
   "cell_type": "code",
   "execution_count": null,
   "id": "0a274e51-fa6e-44e5-82e2-929f6c4c9976",
   "metadata": {},
   "outputs": [],
   "source": [
    "df = pd.read_csv('../input.csv')\n",
    "df.head()"
   ]
  },
  {
   "cell_type": "code",
   "execution_count": null,
   "id": "c5957ccd-967b-4924-896a-517a5c95d6c2",
   "metadata": {},
   "outputs": [],
   "source": [
    "def get_embedding(text, model=\"text-embedding-3-small\"):\n",
    "    text = text.replace(\"\\n\" ,\" \")\n",
    "    return client.embeddings.create(input = [text], model = model).data[0].embedding\n",
    "\n"
   ]
  },
  {
   "cell_type": "code",
   "execution_count": null,
   "id": "c4e32adc-b619-4831-90bf-7e31de018af6",
   "metadata": {},
   "outputs": [],
   "source": [
    "get_embedding(df['text'].iloc[0])"
   ]
  },
  {
   "cell_type": "code",
   "execution_count": null,
   "id": "a1bc8848-ddf1-4c1c-b3d3-d3181f929dd9",
   "metadata": {},
   "outputs": [],
   "source": [
    "%%time \n",
    "df['text'].head(5).apply(get_embedding)"
   ]
  },
  {
   "cell_type": "code",
   "execution_count": null,
   "id": "309f5f4d-83ba-4877-b8d4-8f846bfb27d3",
   "metadata": {},
   "outputs": [],
   "source": [
    "%%time\n",
    "df['embeddings']=df['text'].apply(get_embedding)\n",
    "df.to_csv('./input-with-embedding.csv', index=False)\n",
    "df.to_pickle('./input-with-embeddings.pkl')"
   ]
  },
  {
   "cell_type": "code",
   "execution_count": null,
   "id": "8ad47a5d-7ff9-445b-b0d4-b69c3c8060fc",
   "metadata": {},
   "outputs": [],
   "source": [
    "%%time \n",
    "df= pd.read_pickle('./input-with-embeddings.pkl')\n",
    "df.head()"
   ]
  },
  {
   "cell_type": "code",
   "execution_count": null,
   "id": "eac770f6-dee6-4308-8bf5-c55ab6276f68",
   "metadata": {},
   "outputs": [],
   "source": [
    "question_embedding = get_embedding(question)\n",
    "question, question_embedding[0:10],\"...\""
   ]
  },
  {
   "cell_type": "code",
   "execution_count": null,
   "id": "6b094333-d047-4e11-8068-ab74b8fa59e3",
   "metadata": {},
   "outputs": [],
   "source": [
    "def fn(page_embedding):\n",
    "    return np.dot(page_embedding, question_embedding)\n",
    "df['distance'] = df['embeddings'].apply(fn)\n",
    "df.head()"
   ]
  },
  {
   "cell_type": "code",
   "execution_count": null,
   "id": "9ed7a304-5700-4696-bb6a-ccafe363843b",
   "metadata": {},
   "outputs": [],
   "source": [
    "df.sort_values('distance', ascending=False, inplace=True)\n",
    "df"
   ]
  },
  {
   "cell_type": "code",
   "execution_count": null,
   "id": "e2e86123-4038-483d-a3f1-50f2cc14f5b8",
   "metadata": {},
   "outputs": [],
   "source": [
    "context = df['text'].iloc[0] + \"\\n\" +df['text'].iloc[1] + \"\\n\" + df['text'].iloc[2] + \"\\n\" + df['text'].iloc[4] + \"\\n\"\n",
    "print(context)"
   ]
  },
  {
   "cell_type": "code",
   "execution_count": null,
   "id": "97c1b351-6486-4755-a1e0-4c23985d0125",
   "metadata": {},
   "outputs": [],
   "source": [
    "response = client.chat.completions.create(\n",
    "    model=\"gpt-3.5-turbo\",\n",
    "    messages = [\n",
    "        {\"role\":\"system\", \"content\":\"You are an assistant who is help answering question in polite manner\"},\n",
    "        {\"role\":\"user\",\"content\": question},\n",
    "        {\"role\":\"assistant\",\"content\": f\"Use this information from local data source as context to answer the user question: {context}. Please stick to this context when answering the question.\"}\n",
    "    ])\n",
    "response.choices[0].messages.content"
   ]
  },
  {
   "cell_type": "code",
   "execution_count": null,
   "id": "00638181-4e7f-4e4c-bd21-a5c8895feb27",
   "metadata": {},
   "outputs": [],
   "source": [
    "query(\"Netback Jobs?\")"
   ]
  },
  {
   "cell_type": "code",
   "execution_count": null,
   "id": "5ca2cbf1-55be-4ab7-95ac-84517abf9bf5",
   "metadata": {},
   "outputs": [],
   "source": [
    "query(\"what is Monitoring Center?\")"
   ]
  },
  {
   "cell_type": "code",
   "execution_count": null,
   "id": "a092182e-d65c-46c7-9e30-17407f13a052",
   "metadata": {},
   "outputs": [],
   "source": []
  },
  {
   "cell_type": "code",
   "execution_count": null,
   "id": "17cf69d5-fb61-4a54-aea9-66d07189343b",
   "metadata": {},
   "outputs": [],
   "source": []
  }
 ],
 "metadata": {
  "kernelspec": {
   "display_name": "Python 3 (ipykernel)",
   "language": "python",
   "name": "python3"
  },
  "language_info": {
   "codemirror_mode": {
    "name": "ipython",
    "version": 3
   },
   "file_extension": ".py",
   "mimetype": "text/x-python",
   "name": "python",
   "nbconvert_exporter": "python",
   "pygments_lexer": "ipython3",
   "version": "3.12.3"
  }
 },
 "nbformat": 4,
 "nbformat_minor": 5
}
